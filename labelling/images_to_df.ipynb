{
 "cells": [
  {
   "cell_type": "code",
   "execution_count": null,
   "metadata": {},
   "outputs": [],
   "source": [
    "import os\n",
    "import pandas as pd\n",
    "import shutil"
   ]
  },
  {
   "cell_type": "code",
   "execution_count": null,
   "metadata": {},
   "outputs": [],
   "source": [
    "def read_img_txt_labels(folder_path):\n",
    "    # List to hold all the data\n",
    "    data = []\n",
    "\n",
    "    # Loop over all files in the folder\n",
    "    for file_name in os.listdir(folder_path):\n",
    "        # Check if the file is a .txt file\n",
    "        if file_name.endswith('.txt') and file_name !='classes.txt':\n",
    "            file_path = os.path.join(folder_path, file_name)\n",
    "            with open(file_path, 'r') as file:\n",
    "                # Read the file line by line\n",
    "                for line in file:\n",
    "                    # Split the line into components\n",
    "                    components = line.strip().split()\n",
    "                    # Ensure the line has the expected number of components\n",
    "                    if len(components) == 5:\n",
    "                        object_class, x_center, y_center, width, height = components\n",
    "                        # Append the data along with the file name to the list\n",
    "                        data.append({\n",
    "                            'file_name': file_name,\n",
    "                            'object_class': int(object_class),\n",
    "                            'x_center': float(x_center),\n",
    "                            'y_center': float(y_center),\n",
    "                            'width': float(width),\n",
    "                            'height': float(height)\n",
    "                        })\n",
    "\n",
    "    # Create a DataFrame from the data\n",
    "    df = pd.DataFrame(data)\n",
    "    return df"
   ]
  },
  {
   "cell_type": "code",
   "execution_count": null,
   "metadata": {},
   "outputs": [],
   "source": [
    "# Specify the folder path\n",
    "load_folder_path = \"C:\\\\Users\\\\mucki\\\\Downloads\\\\datasets\\\\all_labeled_images\"\n",
    "\n",
    "# Read the YOLO label files and create a DataFrame\n",
    "imgs_txt_df = read_img_txt_labels(load_folder_path)\n",
    "classes_txt_df = pd.read_csv(f'{load_folder_path}/classes.txt', sep=\" \", header=None)\n",
    "classes_txt_df.columns = ['class_name']\n",
    "classes_txt_df = classes_txt_df.reset_index(names = ['object_class'])\n",
    "\n",
    "# Display the DataFrame\n",
    "df = pd.merge(classes_txt_df, imgs_txt_df, on = \"object_class\")\n",
    "df"
   ]
  },
  {
   "cell_type": "code",
   "execution_count": null,
   "metadata": {},
   "outputs": [],
   "source": [
    "# save_folder = \"C:\\\\Users\\\\mucki\\\\Downloads\\\\datasets\\\\cleaned_labeled_images\"\n",
    "# os.makedirs(save_folder, exist_ok=True)\n",
    "# # Match object_class and class_name correctly and starting from 0\n",
    "# save_df = df.copy().drop('object_class', axis = 1)\n",
    "# save_df['object_class'] = pd.factorize(save_df['class_name'])[0]\n",
    "# save_df = save_df.sort_values('object_class').reset_index(drop =True)\n",
    "# # Save new classes.txt\n",
    "# save_df[['class_name']].drop_duplicates().to_csv(f'{save_folder}/classes.txt', index=False, header=False)\n",
    "\n",
    "# # Create new imgs.txt files\n",
    "# for file_name in save_df.file_name.unique():\n",
    "#     subset_df = save_df[save_df.file_name==file_name][['object_class', \"x_center\", \"y_center\", \"width\", \"height\"]]\n",
    "#     subset_df.to_csv(f'{save_folder}/{file_name}', sep=' ', index=False, header=False)\n",
    "\n",
    "# # Copy image files into new folder\n",
    "# files = os.listdir(load_folder_path)\n",
    "\n",
    "# for f in files:\n",
    "#     if ('.jpg' in f):\n",
    "#         shutil.copy(f'{load_folder_path}/{f}', f'{save_folder}/{f}')\n"
   ]
  }
 ],
 "metadata": {
  "kernelspec": {
   "display_name": "aiss_cv_project",
   "language": "python",
   "name": "python3"
  },
  "language_info": {
   "codemirror_mode": {
    "name": "ipython",
    "version": 3
   },
   "file_extension": ".py",
   "mimetype": "text/x-python",
   "name": "python",
   "nbconvert_exporter": "python",
   "pygments_lexer": "ipython3",
   "version": "3.12.3"
  }
 },
 "nbformat": 4,
 "nbformat_minor": 2
}
